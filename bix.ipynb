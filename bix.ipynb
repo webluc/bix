{
 "cells": [
  {
   "cell_type": "markdown",
   "id": "db176526-01fd-4ff2-8b17-0a2f27d63fe0",
   "metadata": {},
   "source": [
    "### Carregar Bibliotecas"
   ]
  },
  {
   "cell_type": "code",
   "execution_count": 1,
   "id": "e2f37f6d-a0e7-46c7-b310-8102c5a066c9",
   "metadata": {
    "tags": []
   },
   "outputs": [],
   "source": [
    "import pandas as pd\n",
    "import numpy as np\n",
    "import seaborn as sns\n",
    "from matplotlib import pyplot as plt"
   ]
  },
  {
   "cell_type": "markdown",
   "id": "637923fb-daa2-4d58-b6c5-11aa312aa2e6",
   "metadata": {},
   "source": [
    "### Carregar os dados "
   ]
  },
  {
   "cell_type": "code",
   "execution_count": 2,
   "id": "635629f3-826b-41ac-853b-614028001f48",
   "metadata": {
    "tags": []
   },
   "outputs": [],
   "source": [
    "df_vendas = pd.read_excel( \"data/datasets.xlsx\",\n",
    "                            sheet_name=0 ,\n",
    "                            skiprows=4, \n",
    "                            usecols=[2,3,4,5,6,7,8,9 ] )\n",
    "\n",
    "df_produtos = pd.read_excel( \"data/datasets.xlsx\",\n",
    "                            sheet_name=2 ,\n",
    "                             )\n",
    "\n",
    "\n",
    "df_consumidor = pd.read_excel( \"data/datasets.xlsx\",\n",
    "                            sheet_name=3 ,\n",
    "                            )\n",
    "\n",
    "\n",
    "df_lojas = pd.read_excel( \"data/datasets.xlsx\",\n",
    "                            sheet_name=4 ,\n",
    "                             )\n",
    "\n"
   ]
  },
  {
   "cell_type": "markdown",
   "id": "1d2e99fb-a388-49f0-9d5b-eca83b9a5805",
   "metadata": {},
   "source": [
    "### Dados vendas"
   ]
  },
  {
   "cell_type": "code",
   "execution_count": 3,
   "id": "55a801d7-8d63-41e9-98a5-81927f9b0768",
   "metadata": {
    "scrolled": true
   },
   "outputs": [
    {
     "data": {
      "text/html": [
       "<div>\n",
       "<style scoped>\n",
       "    .dataframe tbody tr th:only-of-type {\n",
       "        vertical-align: middle;\n",
       "    }\n",
       "\n",
       "    .dataframe tbody tr th {\n",
       "        vertical-align: top;\n",
       "    }\n",
       "\n",
       "    .dataframe thead th {\n",
       "        text-align: right;\n",
       "    }\n",
       "</style>\n",
       "<table border=\"1\" class=\"dataframe\">\n",
       "  <thead>\n",
       "    <tr style=\"text-align: right;\">\n",
       "      <th></th>\n",
       "      <th>ID</th>\n",
       "      <th>ProductID</th>\n",
       "      <th>ClientID</th>\n",
       "      <th>Discount</th>\n",
       "      <th>UnitPrice</th>\n",
       "      <th>Quantity</th>\n",
       "      <th>StoreID</th>\n",
       "      <th>Date</th>\n",
       "    </tr>\n",
       "  </thead>\n",
       "  <tbody>\n",
       "    <tr>\n",
       "      <th>0</th>\n",
       "      <td>80260d682079b6090c8285b398c50d97</td>\n",
       "      <td>002552c0663708129c0019cc97552d7d3</td>\n",
       "      <td>14001</td>\n",
       "      <td>0.08</td>\n",
       "      <td>249.2</td>\n",
       "      <td>1</td>\n",
       "      <td>4</td>\n",
       "      <td>2018-12-10</td>\n",
       "    </tr>\n",
       "    <tr>\n",
       "      <th>1</th>\n",
       "      <td>3275736da1234f55d52bdf09d86b93bc</td>\n",
       "      <td>001b237c0e9bb435f2e54071129237e93</td>\n",
       "      <td>14001</td>\n",
       "      <td>0.10</td>\n",
       "      <td>162.4</td>\n",
       "      <td>1</td>\n",
       "      <td>4</td>\n",
       "      <td>2019-04-25</td>\n",
       "    </tr>\n",
       "    <tr>\n",
       "      <th>2</th>\n",
       "      <td>f3513eec8f1434b5b7e04ddf3598df40</td>\n",
       "      <td>00066f42aeeb9f3007548bb9d3f33c381</td>\n",
       "      <td>14001</td>\n",
       "      <td>0.10</td>\n",
       "      <td>194.6</td>\n",
       "      <td>1</td>\n",
       "      <td>4</td>\n",
       "      <td>2019-07-17</td>\n",
       "    </tr>\n",
       "    <tr>\n",
       "      <th>3</th>\n",
       "      <td>7180475b60fe6bbbde424d39704a1177</td>\n",
       "      <td>001b72dfd63e9833e8c02742adf472e33</td>\n",
       "      <td>14002</td>\n",
       "      <td>0.10</td>\n",
       "      <td>201.6</td>\n",
       "      <td>2</td>\n",
       "      <td>1</td>\n",
       "      <td>2018-04-10</td>\n",
       "    </tr>\n",
       "    <tr>\n",
       "      <th>4</th>\n",
       "      <td>76600853a200fe87e141adae6b35674c</td>\n",
       "      <td>00210e41887c2a8ef9f791ebc780cc363</td>\n",
       "      <td>14002</td>\n",
       "      <td>0.10</td>\n",
       "      <td>406.0</td>\n",
       "      <td>1</td>\n",
       "      <td>1</td>\n",
       "      <td>2019-01-21</td>\n",
       "    </tr>\n",
       "  </tbody>\n",
       "</table>\n",
       "</div>"
      ],
      "text/plain": [
       "                                 ID                          ProductID  \\\n",
       "0  80260d682079b6090c8285b398c50d97  002552c0663708129c0019cc97552d7d3   \n",
       "1  3275736da1234f55d52bdf09d86b93bc  001b237c0e9bb435f2e54071129237e93   \n",
       "2  f3513eec8f1434b5b7e04ddf3598df40  00066f42aeeb9f3007548bb9d3f33c381   \n",
       "3  7180475b60fe6bbbde424d39704a1177  001b72dfd63e9833e8c02742adf472e33   \n",
       "4  76600853a200fe87e141adae6b35674c  00210e41887c2a8ef9f791ebc780cc363   \n",
       "\n",
       "   ClientID  Discount  UnitPrice  Quantity  StoreID       Date  \n",
       "0     14001      0.08      249.2         1        4 2018-12-10  \n",
       "1     14001      0.10      162.4         1        4 2019-04-25  \n",
       "2     14001      0.10      194.6         1        4 2019-07-17  \n",
       "3     14002      0.10      201.6         2        1 2018-04-10  \n",
       "4     14002      0.10      406.0         1        1 2019-01-21  "
      ]
     },
     "execution_count": 3,
     "metadata": {},
     "output_type": "execute_result"
    }
   ],
   "source": [
    "df_vendas.head()"
   ]
  },
  {
   "cell_type": "markdown",
   "id": "1228dd12-274e-4ed7-9635-7f7b97c58338",
   "metadata": {},
   "source": [
    "### Dados Consumidor"
   ]
  },
  {
   "cell_type": "code",
   "execution_count": 4,
   "id": "e1e484a3-d77b-443c-9ac1-767230452eb4",
   "metadata": {},
   "outputs": [
    {
     "data": {
      "text/html": [
       "<div>\n",
       "<style scoped>\n",
       "    .dataframe tbody tr th:only-of-type {\n",
       "        vertical-align: middle;\n",
       "    }\n",
       "\n",
       "    .dataframe tbody tr th {\n",
       "        vertical-align: top;\n",
       "    }\n",
       "\n",
       "    .dataframe thead th {\n",
       "        text-align: right;\n",
       "    }\n",
       "</style>\n",
       "<table border=\"1\" class=\"dataframe\">\n",
       "  <thead>\n",
       "    <tr style=\"text-align: right;\">\n",
       "      <th></th>\n",
       "      <th>ID</th>\n",
       "      <th>City</th>\n",
       "      <th>State</th>\n",
       "      <th>DateOfBirth</th>\n",
       "      <th>Sex</th>\n",
       "    </tr>\n",
       "  </thead>\n",
       "  <tbody>\n",
       "    <tr>\n",
       "      <th>0</th>\n",
       "      <td>14001</td>\n",
       "      <td>Curitiba</td>\n",
       "      <td>PR</td>\n",
       "      <td>1985-06-28</td>\n",
       "      <td>Homem</td>\n",
       "    </tr>\n",
       "    <tr>\n",
       "      <th>1</th>\n",
       "      <td>14002</td>\n",
       "      <td>Florianópolis</td>\n",
       "      <td>SC</td>\n",
       "      <td>1987-01-10</td>\n",
       "      <td>Homem</td>\n",
       "    </tr>\n",
       "    <tr>\n",
       "      <th>2</th>\n",
       "      <td>14003</td>\n",
       "      <td>Rio de Janeiro</td>\n",
       "      <td>RJ</td>\n",
       "      <td>1979-11-05</td>\n",
       "      <td>Homem</td>\n",
       "    </tr>\n",
       "    <tr>\n",
       "      <th>3</th>\n",
       "      <td>14004</td>\n",
       "      <td>Rio de Janeiro</td>\n",
       "      <td>RJ</td>\n",
       "      <td>1983-11-25</td>\n",
       "      <td>Mulher</td>\n",
       "    </tr>\n",
       "    <tr>\n",
       "      <th>4</th>\n",
       "      <td>14005</td>\n",
       "      <td>Florianópolis</td>\n",
       "      <td>SC</td>\n",
       "      <td>1969-04-07</td>\n",
       "      <td>Homem</td>\n",
       "    </tr>\n",
       "  </tbody>\n",
       "</table>\n",
       "</div>"
      ],
      "text/plain": [
       "      ID            City State DateOfBirth     Sex\n",
       "0  14001        Curitiba    PR  1985-06-28   Homem\n",
       "1  14002   Florianópolis    SC  1987-01-10   Homem\n",
       "2  14003  Rio de Janeiro    RJ  1979-11-05   Homem\n",
       "3  14004  Rio de Janeiro    RJ  1983-11-25  Mulher\n",
       "4  14005   Florianópolis    SC  1969-04-07   Homem"
      ]
     },
     "execution_count": 4,
     "metadata": {},
     "output_type": "execute_result"
    }
   ],
   "source": [
    "df_consumidor.head()"
   ]
  },
  {
   "cell_type": "markdown",
   "id": "9b65ecb1-a177-47c5-bab3-0269868b5f36",
   "metadata": {},
   "source": [
    "### Dados Produtos"
   ]
  },
  {
   "cell_type": "code",
   "execution_count": 5,
   "id": "2ed11689-a242-435e-a075-afc906af2986",
   "metadata": {},
   "outputs": [
    {
     "data": {
      "text/html": [
       "<div>\n",
       "<style scoped>\n",
       "    .dataframe tbody tr th:only-of-type {\n",
       "        vertical-align: middle;\n",
       "    }\n",
       "\n",
       "    .dataframe tbody tr th {\n",
       "        vertical-align: top;\n",
       "    }\n",
       "\n",
       "    .dataframe thead th {\n",
       "        text-align: right;\n",
       "    }\n",
       "</style>\n",
       "<table border=\"1\" class=\"dataframe\">\n",
       "  <thead>\n",
       "    <tr style=\"text-align: right;\">\n",
       "      <th></th>\n",
       "      <th>ID</th>\n",
       "      <th>Name</th>\n",
       "      <th>Size</th>\n",
       "    </tr>\n",
       "  </thead>\n",
       "  <tbody>\n",
       "    <tr>\n",
       "      <th>0</th>\n",
       "      <td>00066f42aeeb9f3007548bb9d3f33c381</td>\n",
       "      <td>Capitão América</td>\n",
       "      <td>P</td>\n",
       "    </tr>\n",
       "    <tr>\n",
       "      <th>1</th>\n",
       "      <td>00066f42aeeb9f3007548bb9d3f33c382</td>\n",
       "      <td>Capitão América</td>\n",
       "      <td>M</td>\n",
       "    </tr>\n",
       "    <tr>\n",
       "      <th>2</th>\n",
       "      <td>00066f42aeeb9f3007548bb9d3f33c383</td>\n",
       "      <td>Capitão América</td>\n",
       "      <td>G</td>\n",
       "    </tr>\n",
       "    <tr>\n",
       "      <th>3</th>\n",
       "      <td>00088930e925c41fd95ebfe695fd26551</td>\n",
       "      <td>Thor</td>\n",
       "      <td>P</td>\n",
       "    </tr>\n",
       "    <tr>\n",
       "      <th>4</th>\n",
       "      <td>00088930e925c41fd95ebfe695fd26552</td>\n",
       "      <td>Thor</td>\n",
       "      <td>M</td>\n",
       "    </tr>\n",
       "  </tbody>\n",
       "</table>\n",
       "</div>"
      ],
      "text/plain": [
       "                                  ID             Name Size\n",
       "0  00066f42aeeb9f3007548bb9d3f33c381  Capitão América    P\n",
       "1  00066f42aeeb9f3007548bb9d3f33c382  Capitão América    M\n",
       "2  00066f42aeeb9f3007548bb9d3f33c383  Capitão América    G\n",
       "3  00088930e925c41fd95ebfe695fd26551             Thor    P\n",
       "4  00088930e925c41fd95ebfe695fd26552             Thor    M"
      ]
     },
     "execution_count": 5,
     "metadata": {},
     "output_type": "execute_result"
    }
   ],
   "source": [
    "df_produtos.head( )"
   ]
  },
  {
   "cell_type": "markdown",
   "id": "dcdc79c2-efb8-47d8-9112-f3c988f390ee",
   "metadata": {},
   "source": [
    "### Dados Lojas"
   ]
  },
  {
   "cell_type": "code",
   "execution_count": 6,
   "id": "0cc02490-4fb0-4336-9943-92f35d1bd0ab",
   "metadata": {},
   "outputs": [
    {
     "data": {
      "text/html": [
       "<div>\n",
       "<style scoped>\n",
       "    .dataframe tbody tr th:only-of-type {\n",
       "        vertical-align: middle;\n",
       "    }\n",
       "\n",
       "    .dataframe tbody tr th {\n",
       "        vertical-align: top;\n",
       "    }\n",
       "\n",
       "    .dataframe thead th {\n",
       "        text-align: right;\n",
       "    }\n",
       "</style>\n",
       "<table border=\"1\" class=\"dataframe\">\n",
       "  <thead>\n",
       "    <tr style=\"text-align: right;\">\n",
       "      <th></th>\n",
       "      <th>ID</th>\n",
       "      <th>Name</th>\n",
       "      <th>State</th>\n",
       "    </tr>\n",
       "  </thead>\n",
       "  <tbody>\n",
       "    <tr>\n",
       "      <th>0</th>\n",
       "      <td>1</td>\n",
       "      <td>Florianópolis</td>\n",
       "      <td>SC</td>\n",
       "    </tr>\n",
       "    <tr>\n",
       "      <th>1</th>\n",
       "      <td>2</td>\n",
       "      <td>Rio de Janeiro</td>\n",
       "      <td>RJ</td>\n",
       "    </tr>\n",
       "    <tr>\n",
       "      <th>2</th>\n",
       "      <td>3</td>\n",
       "      <td>Porto Alegre</td>\n",
       "      <td>RS</td>\n",
       "    </tr>\n",
       "    <tr>\n",
       "      <th>3</th>\n",
       "      <td>4</td>\n",
       "      <td>Curitiba</td>\n",
       "      <td>PR</td>\n",
       "    </tr>\n",
       "    <tr>\n",
       "      <th>4</th>\n",
       "      <td>7</td>\n",
       "      <td>São Paulo</td>\n",
       "      <td>SP</td>\n",
       "    </tr>\n",
       "  </tbody>\n",
       "</table>\n",
       "</div>"
      ],
      "text/plain": [
       "   ID            Name State\n",
       "0   1   Florianópolis    SC\n",
       "1   2  Rio de Janeiro    RJ\n",
       "2   3    Porto Alegre    RS\n",
       "3   4        Curitiba    PR\n",
       "4   7       São Paulo    SP"
      ]
     },
     "execution_count": 6,
     "metadata": {},
     "output_type": "execute_result"
    }
   ],
   "source": [
    "df_lojas.head()"
   ]
  },
  {
   "cell_type": "markdown",
   "id": "9b9635af-fc23-475a-b3df-a1bf9ce063a6",
   "metadata": {},
   "source": [
    "## Descrição dos dados"
   ]
  },
  {
   "cell_type": "code",
   "execution_count": 7,
   "id": "681fd174-abae-4043-8cac-df8aad53d292",
   "metadata": {},
   "outputs": [
    {
     "data": {
      "text/plain": [
       "(32753, 16)"
      ]
     },
     "execution_count": 7,
     "metadata": {},
     "output_type": "execute_result"
    }
   ],
   "source": [
    "#Renomear Columas\n",
    "df_produtos.columns = ['ProductID','NameProduct','SizeProduct' ]\n",
    "df_consumidor.columns = [ 'ClientID', 'CityClient', 'StateCLient' , 'DateOfBirth' , 'Sex' ]\n",
    "df_lojas.columns = ['StoreID', 'NameStore', 'StateSore' ]\n",
    "\n",
    "# Unir datasets\n",
    "df = df_vendas.merge( df_produtos, how = 'left', on = 'ProductID')\n",
    "df = df.merge( df_lojas, how = 'left', on = 'StoreID')\n",
    "df = df.merge( df_consumidor, how = 'left', on = 'ClientID')\n",
    "\n",
    "df.shape"
   ]
  },
  {
   "cell_type": "markdown",
   "id": "8c143385-7e79-43e0-9951-c81b7446bd42",
   "metadata": {
    "tags": []
   },
   "source": [
    "### Checar os NaN"
   ]
  },
  {
   "cell_type": "code",
   "execution_count": 8,
   "id": "d97620e6-76e7-4955-b3df-937e9ecde1b3",
   "metadata": {
    "tags": []
   },
   "outputs": [
    {
     "data": {
      "text/plain": [
       "ID             0\n",
       "ProductID      0\n",
       "ClientID       0\n",
       "Discount       0\n",
       "UnitPrice      0\n",
       "Quantity       0\n",
       "StoreID        0\n",
       "Date           0\n",
       "NameProduct    0\n",
       "SizeProduct    0\n",
       "NameStore      0\n",
       "StateSore      0\n",
       "CityClient     0\n",
       "StateCLient    0\n",
       "DateOfBirth    0\n",
       "Sex            0\n",
       "dtype: int64"
      ]
     },
     "execution_count": 8,
     "metadata": {},
     "output_type": "execute_result"
    }
   ],
   "source": [
    "df.isna().sum()"
   ]
  },
  {
   "cell_type": "markdown",
   "id": "80bd3a6c-21c9-4aa6-837c-9eb6f15395ba",
   "metadata": {
    "tags": []
   },
   "source": [
    "### Verificar o Tamanho"
   ]
  },
  {
   "cell_type": "code",
   "execution_count": 9,
   "id": "524918f8-0480-485e-872a-b5efbc76ab40",
   "metadata": {
    "tags": []
   },
   "outputs": [
    {
     "name": "stdout",
     "output_type": "stream",
     "text": [
      "Número de linhas na vendas : 32753\n",
      "Número de Colunas na vendas: 16\n"
     ]
    }
   ],
   "source": [
    "print( 'Número de linhas na vendas : {}'.format( df.shape[0] ) )\n",
    "print( 'Número de Colunas na vendas: {}'.format( df.shape[1] ) )"
   ]
  },
  {
   "cell_type": "markdown",
   "id": "8bffc348-f044-489d-befa-d416c1fc1a3c",
   "metadata": {},
   "source": [
    "### Tipos dos dataset"
   ]
  },
  {
   "cell_type": "code",
   "execution_count": 10,
   "id": "f7fe37f9-cb41-402f-9546-6bdf11626aa9",
   "metadata": {
    "tags": []
   },
   "outputs": [
    {
     "data": {
      "text/plain": [
       "ID                     object\n",
       "ProductID              object\n",
       "ClientID                int64\n",
       "Discount              float64\n",
       "UnitPrice             float64\n",
       "Quantity                int64\n",
       "StoreID                 int64\n",
       "Date           datetime64[ns]\n",
       "NameProduct            object\n",
       "SizeProduct            object\n",
       "NameStore              object\n",
       "StateSore              object\n",
       "CityClient             object\n",
       "StateCLient            object\n",
       "DateOfBirth    datetime64[ns]\n",
       "Sex                    object\n",
       "dtype: object"
      ]
     },
     "execution_count": 10,
     "metadata": {},
     "output_type": "execute_result"
    }
   ],
   "source": [
    "df.dtypes"
   ]
  },
  {
   "cell_type": "markdown",
   "id": "0bdc7032-d6b8-45f8-bae2-dc7e2d1f655f",
   "metadata": {},
   "source": [
    "## Descrição Estatistica"
   ]
  },
  {
   "cell_type": "code",
   "execution_count": 11,
   "id": "570035a1-0971-44db-a627-5e6dc07482f6",
   "metadata": {
    "tags": []
   },
   "outputs": [],
   "source": [
    "df_num = df.select_dtypes( include=['int64', 'float64'])\n",
    "\n",
    "df_cat = df.select_dtypes( exclude=['int64', 'float64','datetime64[ns]'])"
   ]
  },
  {
   "cell_type": "code",
   "execution_count": 12,
   "id": "8e0b7529-e8b1-49ec-9a33-49ea167e2d36",
   "metadata": {
    "tags": []
   },
   "outputs": [
    {
     "data": {
      "text/html": [
       "<div>\n",
       "<style scoped>\n",
       "    .dataframe tbody tr th:only-of-type {\n",
       "        vertical-align: middle;\n",
       "    }\n",
       "\n",
       "    .dataframe tbody tr th {\n",
       "        vertical-align: top;\n",
       "    }\n",
       "\n",
       "    .dataframe thead th {\n",
       "        text-align: right;\n",
       "    }\n",
       "</style>\n",
       "<table border=\"1\" class=\"dataframe\">\n",
       "  <thead>\n",
       "    <tr style=\"text-align: right;\">\n",
       "      <th></th>\n",
       "      <th>atributos</th>\n",
       "      <th>min</th>\n",
       "      <th>max</th>\n",
       "      <th>range</th>\n",
       "      <th>media</th>\n",
       "      <th>mediana</th>\n",
       "      <th>std</th>\n",
       "      <th>skew</th>\n",
       "      <th>kurtosis</th>\n",
       "    </tr>\n",
       "  </thead>\n",
       "  <tbody>\n",
       "    <tr>\n",
       "      <th>0</th>\n",
       "      <td>ClientID</td>\n",
       "      <td>14001.00</td>\n",
       "      <td>28695.0</td>\n",
       "      <td>14694.00</td>\n",
       "      <td>21225.185937</td>\n",
       "      <td>21130.0</td>\n",
       "      <td>4262.129047</td>\n",
       "      <td>0.039784</td>\n",
       "      <td>-1.207853</td>\n",
       "    </tr>\n",
       "    <tr>\n",
       "      <th>1</th>\n",
       "      <td>Discount</td>\n",
       "      <td>0.08</td>\n",
       "      <td>0.1</td>\n",
       "      <td>0.02</td>\n",
       "      <td>0.093012</td>\n",
       "      <td>0.1</td>\n",
       "      <td>0.009536</td>\n",
       "      <td>-0.631752</td>\n",
       "      <td>-1.600987</td>\n",
       "    </tr>\n",
       "    <tr>\n",
       "      <th>2</th>\n",
       "      <td>UnitPrice</td>\n",
       "      <td>114.80</td>\n",
       "      <td>686.0</td>\n",
       "      <td>571.20</td>\n",
       "      <td>221.644967</td>\n",
       "      <td>204.4</td>\n",
       "      <td>112.533586</td>\n",
       "      <td>2.935387</td>\n",
       "      <td>9.318373</td>\n",
       "    </tr>\n",
       "    <tr>\n",
       "      <th>3</th>\n",
       "      <td>Quantity</td>\n",
       "      <td>1.00</td>\n",
       "      <td>3.0</td>\n",
       "      <td>2.00</td>\n",
       "      <td>1.058651</td>\n",
       "      <td>1.0</td>\n",
       "      <td>0.239603</td>\n",
       "      <td>3.994438</td>\n",
       "      <td>15.192824</td>\n",
       "    </tr>\n",
       "    <tr>\n",
       "      <th>4</th>\n",
       "      <td>StoreID</td>\n",
       "      <td>1.00</td>\n",
       "      <td>22.0</td>\n",
       "      <td>21.00</td>\n",
       "      <td>3.752389</td>\n",
       "      <td>3.0</td>\n",
       "      <td>3.827446</td>\n",
       "      <td>3.118095</td>\n",
       "      <td>11.735954</td>\n",
       "    </tr>\n",
       "  </tbody>\n",
       "</table>\n",
       "</div>"
      ],
      "text/plain": [
       "   atributos       min      max     range         media  mediana          std  \\\n",
       "0   ClientID  14001.00  28695.0  14694.00  21225.185937  21130.0  4262.129047   \n",
       "1   Discount      0.08      0.1      0.02      0.093012      0.1     0.009536   \n",
       "2  UnitPrice    114.80    686.0    571.20    221.644967    204.4   112.533586   \n",
       "3   Quantity      1.00      3.0      2.00      1.058651      1.0     0.239603   \n",
       "4    StoreID      1.00     22.0     21.00      3.752389      3.0     3.827446   \n",
       "\n",
       "       skew   kurtosis  \n",
       "0  0.039784  -1.207853  \n",
       "1 -0.631752  -1.600987  \n",
       "2  2.935387   9.318373  \n",
       "3  3.994438  15.192824  \n",
       "4  3.118095  11.735954  "
      ]
     },
     "execution_count": 12,
     "metadata": {},
     "output_type": "execute_result"
    }
   ],
   "source": [
    "#Metricas Tendência Central - Mean e Median\n",
    "\n",
    "ct1 = pd.DataFrame( df_num.apply( np.mean ) ).T\n",
    "ct2 = pd.DataFrame( df_num.apply( np.median ) ).T\n",
    "\n",
    "#Metricas Dispersão STD -Min - Max - Range - skew - Kurtosis\n",
    "\n",
    "d1 = pd.DataFrame( df_num.apply( np.std ) ).T\n",
    "d2 = pd.DataFrame( df_num.apply( min ) ).T\n",
    "d3 = pd.DataFrame( df_num.apply( max ) ).T\n",
    "d4 = pd.DataFrame( df_num.apply( lambda x: x.max() - x.min() ) ).T\n",
    "d5 = pd.DataFrame( df_num.apply( lambda x: x.skew() ) ).T\n",
    "d6 = pd.DataFrame( df_num.apply( lambda x: x.kurtosis() ) ).T\n",
    "\n",
    "#Concatenar - Montar Tabela\n",
    "\n",
    "df_desc =  pd.concat( [ d2, d3, d4, ct1, ct2, d1, d5, d6] ).T.reset_index()\n",
    "df_desc.columns = ['atributos','min','max','range','media','mediana','std','skew','kurtosis']\n",
    "\n",
    "df_desc\n",
    "\n"
   ]
  },
  {
   "cell_type": "code",
   "execution_count": 13,
   "id": "e2478831-e5cf-4b4c-af6c-a15c93fca309",
   "metadata": {
    "tags": []
   },
   "outputs": [
    {
     "data": {
      "image/png": "[encoded data removed]",
      "text/plain": [
       "<Figure size 640x480 with 1 Axes>"
      ]
     },
     "metadata": {},
     "output_type": "display_data"
    }
   ],
   "source": [
    "sns.scatterplot(x = 'ClientID', y= 'StoreID', data=df);"
   ]
  },
  {
   "cell_type": "code",
   "execution_count": 14,
   "id": "52ca2102-cd3f-4bbf-8a74-2e66fb040cd2",
   "metadata": {},
   "outputs": [
    {
     "data": {
      "text/plain": [
       "Index(['ID', 'ProductID', 'ClientID', 'Discount', 'UnitPrice', 'Quantity',\n",
       "       'StoreID', 'Date', 'NameProduct', 'SizeProduct', 'NameStore',\n",
       "       'StateSore', 'CityClient', 'StateCLient', 'DateOfBirth', 'Sex'],\n",
       "      dtype='object')"
      ]
     },
     "execution_count": 14,
     "metadata": {},
     "output_type": "execute_result"
    }
   ],
   "source": [
    "df.columns \n"
   ]
  },
  {
   "cell_type": "code",
   "execution_count": 17,
   "id": "ebb4daf2-961e-4fd1-b55c-29a62af1dbd9",
   "metadata": {},
   "outputs": [
    {
     "data": {
      "text/html": [
       "<div>\n",
       "<style scoped>\n",
       "    .dataframe tbody tr th:only-of-type {\n",
       "        vertical-align: middle;\n",
       "    }\n",
       "\n",
       "    .dataframe tbody tr th {\n",
       "        vertical-align: top;\n",
       "    }\n",
       "\n",
       "    .dataframe thead th {\n",
       "        text-align: right;\n",
       "    }\n",
       "</style>\n",
       "<table border=\"1\" class=\"dataframe\">\n",
       "  <thead>\n",
       "    <tr style=\"text-align: right;\">\n",
       "      <th></th>\n",
       "      <th>ID</th>\n",
       "      <th>ProductID</th>\n",
       "      <th>ClientID</th>\n",
       "      <th>Discount</th>\n",
       "      <th>UnitPrice</th>\n",
       "      <th>Quantity</th>\n",
       "      <th>StoreID</th>\n",
       "      <th>Date</th>\n",
       "      <th>NameProduct</th>\n",
       "      <th>SizeProduct</th>\n",
       "      <th>NameStore</th>\n",
       "      <th>StateSore</th>\n",
       "      <th>CityClient</th>\n",
       "      <th>StateCLient</th>\n",
       "      <th>DateOfBirth</th>\n",
       "      <th>Sex</th>\n",
       "    </tr>\n",
       "  </thead>\n",
       "  <tbody>\n",
       "    <tr>\n",
       "      <th>0</th>\n",
       "      <td>80260d682079b6090c8285b398c50d97</td>\n",
       "      <td>002552c0663708129c0019cc97552d7d3</td>\n",
       "      <td>14001</td>\n",
       "      <td>0.08</td>\n",
       "      <td>249.2</td>\n",
       "      <td>1</td>\n",
       "      <td>4</td>\n",
       "      <td>2018-12-10</td>\n",
       "      <td>Tempestade</td>\n",
       "      <td>G</td>\n",
       "      <td>Curitiba</td>\n",
       "      <td>PR</td>\n",
       "      <td>Curitiba</td>\n",
       "      <td>PR</td>\n",
       "      <td>1985-06-28</td>\n",
       "      <td>Homem</td>\n",
       "    </tr>\n",
       "    <tr>\n",
       "      <th>1</th>\n",
       "      <td>3275736da1234f55d52bdf09d86b93bc</td>\n",
       "      <td>001b237c0e9bb435f2e54071129237e93</td>\n",
       "      <td>14001</td>\n",
       "      <td>0.10</td>\n",
       "      <td>162.4</td>\n",
       "      <td>1</td>\n",
       "      <td>4</td>\n",
       "      <td>2019-04-25</td>\n",
       "      <td>Thanos</td>\n",
       "      <td>G</td>\n",
       "      <td>Curitiba</td>\n",
       "      <td>PR</td>\n",
       "      <td>Curitiba</td>\n",
       "      <td>PR</td>\n",
       "      <td>1985-06-28</td>\n",
       "      <td>Homem</td>\n",
       "    </tr>\n",
       "    <tr>\n",
       "      <th>2</th>\n",
       "      <td>f3513eec8f1434b5b7e04ddf3598df40</td>\n",
       "      <td>00066f42aeeb9f3007548bb9d3f33c381</td>\n",
       "      <td>14001</td>\n",
       "      <td>0.10</td>\n",
       "      <td>194.6</td>\n",
       "      <td>1</td>\n",
       "      <td>4</td>\n",
       "      <td>2019-07-17</td>\n",
       "      <td>Capitão América</td>\n",
       "      <td>P</td>\n",
       "      <td>Curitiba</td>\n",
       "      <td>PR</td>\n",
       "      <td>Curitiba</td>\n",
       "      <td>PR</td>\n",
       "      <td>1985-06-28</td>\n",
       "      <td>Homem</td>\n",
       "    </tr>\n",
       "    <tr>\n",
       "      <th>3</th>\n",
       "      <td>7180475b60fe6bbbde424d39704a1177</td>\n",
       "      <td>001b72dfd63e9833e8c02742adf472e33</td>\n",
       "      <td>14002</td>\n",
       "      <td>0.10</td>\n",
       "      <td>201.6</td>\n",
       "      <td>2</td>\n",
       "      <td>1</td>\n",
       "      <td>2018-04-10</td>\n",
       "      <td>Wolverine</td>\n",
       "      <td>G</td>\n",
       "      <td>Florianópolis</td>\n",
       "      <td>SC</td>\n",
       "      <td>Florianópolis</td>\n",
       "      <td>SC</td>\n",
       "      <td>1987-01-10</td>\n",
       "      <td>Homem</td>\n",
       "    </tr>\n",
       "    <tr>\n",
       "      <th>4</th>\n",
       "      <td>76600853a200fe87e141adae6b35674c</td>\n",
       "      <td>00210e41887c2a8ef9f791ebc780cc363</td>\n",
       "      <td>14002</td>\n",
       "      <td>0.10</td>\n",
       "      <td>406.0</td>\n",
       "      <td>1</td>\n",
       "      <td>1</td>\n",
       "      <td>2019-01-21</td>\n",
       "      <td>Naruto</td>\n",
       "      <td>G</td>\n",
       "      <td>Florianópolis</td>\n",
       "      <td>SC</td>\n",
       "      <td>Florianópolis</td>\n",
       "      <td>SC</td>\n",
       "      <td>1987-01-10</td>\n",
       "      <td>Homem</td>\n",
       "    </tr>\n",
       "  </tbody>\n",
       "</table>\n",
       "</div>"
      ],
      "text/plain": [
       "                                 ID                          ProductID  \\\n",
       "0  80260d682079b6090c8285b398c50d97  002552c0663708129c0019cc97552d7d3   \n",
       "1  3275736da1234f55d52bdf09d86b93bc  001b237c0e9bb435f2e54071129237e93   \n",
       "2  f3513eec8f1434b5b7e04ddf3598df40  00066f42aeeb9f3007548bb9d3f33c381   \n",
       "3  7180475b60fe6bbbde424d39704a1177  001b72dfd63e9833e8c02742adf472e33   \n",
       "4  76600853a200fe87e141adae6b35674c  00210e41887c2a8ef9f791ebc780cc363   \n",
       "\n",
       "   ClientID  Discount  UnitPrice  Quantity  StoreID       Date  \\\n",
       "0     14001      0.08      249.2         1        4 2018-12-10   \n",
       "1     14001      0.10      162.4         1        4 2019-04-25   \n",
       "2     14001      0.10      194.6         1        4 2019-07-17   \n",
       "3     14002      0.10      201.6         2        1 2018-04-10   \n",
       "4     14002      0.10      406.0         1        1 2019-01-21   \n",
       "\n",
       "       NameProduct SizeProduct      NameStore StateSore     CityClient  \\\n",
       "0       Tempestade           G       Curitiba        PR       Curitiba   \n",
       "1           Thanos           G       Curitiba        PR       Curitiba   \n",
       "2  Capitão América           P       Curitiba        PR       Curitiba   \n",
       "3        Wolverine           G  Florianópolis        SC  Florianópolis   \n",
       "4           Naruto           G  Florianópolis        SC  Florianópolis   \n",
       "\n",
       "  StateCLient DateOfBirth    Sex  \n",
       "0          PR  1985-06-28  Homem  \n",
       "1          PR  1985-06-28  Homem  \n",
       "2          PR  1985-06-28  Homem  \n",
       "3          SC  1987-01-10  Homem  \n",
       "4          SC  1987-01-10  Homem  "
      ]
     },
     "execution_count": 17,
     "metadata": {},
     "output_type": "execute_result"
    }
   ],
   "source": [
    "df.head()"
   ]
  },
  {
   "cell_type": "code",
   "execution_count": 27,
   "id": "cfe7cba4-90bc-4d79-b8c6-11be48a1fb89",
   "metadata": {},
   "outputs": [
    {
     "data": {
      "text/html": [
       "<div>\n",
       "<style scoped>\n",
       "    .dataframe tbody tr th:only-of-type {\n",
       "        vertical-align: middle;\n",
       "    }\n",
       "\n",
       "    .dataframe tbody tr th {\n",
       "        vertical-align: top;\n",
       "    }\n",
       "\n",
       "    .dataframe thead th {\n",
       "        text-align: right;\n",
       "    }\n",
       "</style>\n",
       "<table border=\"1\" class=\"dataframe\">\n",
       "  <thead>\n",
       "    <tr style=\"text-align: right;\">\n",
       "      <th></th>\n",
       "      <th></th>\n",
       "      <th>ProductID</th>\n",
       "      <th>Quantity</th>\n",
       "    </tr>\n",
       "    <tr>\n",
       "      <th>NameProduct</th>\n",
       "      <th>SizeProduct</th>\n",
       "      <th></th>\n",
       "      <th></th>\n",
       "    </tr>\n",
       "  </thead>\n",
       "  <tbody>\n",
       "    <tr>\n",
       "      <th rowspan=\"3\" valign=\"top\">BIXDream</th>\n",
       "      <th>G</th>\n",
       "      <td>00250175f79f584c14ab5cecd80553cd300250175f79f5...</td>\n",
       "      <td>952</td>\n",
       "    </tr>\n",
       "    <tr>\n",
       "      <th>M</th>\n",
       "      <td>00250175f79f584c14ab5cecd80553cd200250175f79f5...</td>\n",
       "      <td>231</td>\n",
       "    </tr>\n",
       "    <tr>\n",
       "      <th>P</th>\n",
       "      <td>00250175f79f584c14ab5cecd80553cd100250175f79f5...</td>\n",
       "      <td>242</td>\n",
       "    </tr>\n",
       "    <tr>\n",
       "      <th rowspan=\"2\" valign=\"top\">Batman</th>\n",
       "      <th>G</th>\n",
       "      <td>000d9be29b5207b54e86aa1b1ac548723000d9be29b520...</td>\n",
       "      <td>941</td>\n",
       "    </tr>\n",
       "    <tr>\n",
       "      <th>M</th>\n",
       "      <td>000d9be29b5207b54e86aa1b1ac548722000d9be29b520...</td>\n",
       "      <td>240</td>\n",
       "    </tr>\n",
       "    <tr>\n",
       "      <th>...</th>\n",
       "      <th>...</th>\n",
       "      <td>...</td>\n",
       "      <td>...</td>\n",
       "    </tr>\n",
       "    <tr>\n",
       "      <th rowspan=\"2\" valign=\"top\">Thor</th>\n",
       "      <th>M</th>\n",
       "      <td>00088930e925c41fd95ebfe695fd2655200088930e925c...</td>\n",
       "      <td>211</td>\n",
       "    </tr>\n",
       "    <tr>\n",
       "      <th>P</th>\n",
       "      <td>00088930e925c41fd95ebfe695fd2655100088930e925c...</td>\n",
       "      <td>225</td>\n",
       "    </tr>\n",
       "    <tr>\n",
       "      <th rowspan=\"3\" valign=\"top\">Wolverine</th>\n",
       "      <th>G</th>\n",
       "      <td>001b72dfd63e9833e8c02742adf472e33001b72dfd63e9...</td>\n",
       "      <td>965</td>\n",
       "    </tr>\n",
       "    <tr>\n",
       "      <th>M</th>\n",
       "      <td>001b72dfd63e9833e8c02742adf472e32001b72dfd63e9...</td>\n",
       "      <td>244</td>\n",
       "    </tr>\n",
       "    <tr>\n",
       "      <th>P</th>\n",
       "      <td>001b72dfd63e9833e8c02742adf472e31001b72dfd63e9...</td>\n",
       "      <td>243</td>\n",
       "    </tr>\n",
       "  </tbody>\n",
       "</table>\n",
       "<p>73 rows × 2 columns</p>\n",
       "</div>"
      ],
      "text/plain": [
       "                                                                 ProductID  \\\n",
       "NameProduct SizeProduct                                                      \n",
       "BIXDream    G            00250175f79f584c14ab5cecd80553cd300250175f79f5...   \n",
       "            M            00250175f79f584c14ab5cecd80553cd200250175f79f5...   \n",
       "            P            00250175f79f584c14ab5cecd80553cd100250175f79f5...   \n",
       "Batman      G            000d9be29b5207b54e86aa1b1ac548723000d9be29b520...   \n",
       "            M            000d9be29b5207b54e86aa1b1ac548722000d9be29b520...   \n",
       "...                                                                    ...   \n",
       "Thor        M            00088930e925c41fd95ebfe695fd2655200088930e925c...   \n",
       "            P            00088930e925c41fd95ebfe695fd2655100088930e925c...   \n",
       "Wolverine   G            001b72dfd63e9833e8c02742adf472e33001b72dfd63e9...   \n",
       "            M            001b72dfd63e9833e8c02742adf472e32001b72dfd63e9...   \n",
       "            P            001b72dfd63e9833e8c02742adf472e31001b72dfd63e9...   \n",
       "\n",
       "                         Quantity  \n",
       "NameProduct SizeProduct            \n",
       "BIXDream    G                 952  \n",
       "            M                 231  \n",
       "            P                 242  \n",
       "Batman      G                 941  \n",
       "            M                 240  \n",
       "...                           ...  \n",
       "Thor        M                 211  \n",
       "            P                 225  \n",
       "Wolverine   G                 965  \n",
       "            M                 244  \n",
       "            P                 243  \n",
       "\n",
       "[73 rows x 2 columns]"
      ]
     },
     "execution_count": 27,
     "metadata": {},
     "output_type": "execute_result"
    }
   ],
   "source": [
    "df[['ProductID','NameProduct','Quantity','SizeProduct']].groupby(['NameProduct','SizeProduct']).sum()"
   ]
  },
  {
   "cell_type": "code",
   "execution_count": 16,
   "id": "48a67d0f-3c07-4cfc-87c1-4089205c865e",
   "metadata": {},
   "outputs": [
    {
     "data": {
      "text/html": [
       "<div>\n",
       "<style scoped>\n",
       "    .dataframe tbody tr th:only-of-type {\n",
       "        vertical-align: middle;\n",
       "    }\n",
       "\n",
       "    .dataframe tbody tr th {\n",
       "        vertical-align: top;\n",
       "    }\n",
       "\n",
       "    .dataframe thead th {\n",
       "        text-align: right;\n",
       "    }\n",
       "</style>\n",
       "<table border=\"1\" class=\"dataframe\">\n",
       "  <thead>\n",
       "    <tr style=\"text-align: right;\">\n",
       "      <th></th>\n",
       "      <th>NameProduct</th>\n",
       "    </tr>\n",
       "    <tr>\n",
       "      <th>SizeProduct</th>\n",
       "      <th></th>\n",
       "    </tr>\n",
       "  </thead>\n",
       "  <tbody>\n",
       "    <tr>\n",
       "      <th>G</th>\n",
       "      <td>21599</td>\n",
       "    </tr>\n",
       "    <tr>\n",
       "      <th>GG</th>\n",
       "      <td>402</td>\n",
       "    </tr>\n",
       "    <tr>\n",
       "      <th>M</th>\n",
       "      <td>5252</td>\n",
       "    </tr>\n",
       "    <tr>\n",
       "      <th>P</th>\n",
       "      <td>5500</td>\n",
       "    </tr>\n",
       "  </tbody>\n",
       "</table>\n",
       "</div>"
      ],
      "text/plain": [
       "             NameProduct\n",
       "SizeProduct             \n",
       "G                  21599\n",
       "GG                   402\n",
       "M                   5252\n",
       "P                   5500"
      ]
     },
     "execution_count": 16,
     "metadata": {},
     "output_type": "execute_result"
    }
   ],
   "source": [
    "df[['NameProduct','SizeProduct']].groupby('SizeProduct').count()"
   ]
  },
  {
   "cell_type": "code",
   "execution_count": null,
   "id": "4b8d639c-e756-4bb3-9255-85be900cfe60",
   "metadata": {},
   "outputs": [],
   "source": []
  }
 ],
 "metadata": {
  "kernelspec": {
   "display_name": "Python 3 (ipykernel)",
   "language": "python",
   "name": "python3"
  },
  "language_info": {
   "codemirror_mode": {
    "name": "ipython",
    "version": 3
   },
   "file_extension": ".py",
   "mimetype": "text/x-python",
   "name": "python",
   "nbconvert_exporter": "python",
   "pygments_lexer": "ipython3",
   "version": "3.8.17"
  }
 },
 "nbformat": 4,
 "nbformat_minor": 5
}

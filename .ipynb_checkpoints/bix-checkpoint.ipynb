{
 "cells": [
  {
   "cell_type": "code",
   "execution_count": 1,
   "id": "e2f37f6d-a0e7-46c7-b310-8102c5a066c9",
   "metadata": {},
   "outputs": [],
   "source": [
    "import pandas as pd\n",
    "import numpy as np"
   ]
  },
  {
   "cell_type": "markdown",
   "id": "637923fb-daa2-4d58-b6c5-11aa312aa2e6",
   "metadata": {},
   "source": [
    "### Load Dataset"
   ]
  },
  {
   "cell_type": "code",
   "execution_count": 16,
   "id": "635629f3-826b-41ac-853b-614028001f48",
   "metadata": {},
   "outputs": [],
   "source": [
    "df_vendas = pd.read_excel( \"data/datasets.xlsx\",\n",
    "                            sheet_name=0 ,\n",
    "                            skiprows=4, \n",
    "                            usecols=[2,3,4,5,6,7,8,9 ] )\n",
    "\n",
    "df_produtos = pd.read_excel( \"data/datasets.xlsx\",\n",
    "                            sheet_name=2 ,\n",
    "                             )\n",
    "\n",
    "df_consumidor = pd.read_excel( \"data/datasets.xlsx\",\n",
    "                            sheet_name=3 ,\n",
    "                            )\n",
    "\n",
    "df_lojas = pd.read_excel( \"data/datasets.xlsx\",\n",
    "                            sheet_name=4 ,\n",
    "                             )\n"
   ]
  },
  {
   "cell_type": "code",
   "execution_count": 17,
   "id": "d97620e6-76e7-4955-b3df-937e9ecde1b3",
   "metadata": {},
   "outputs": [
    {
     "data": {
      "text/html": [
       "<div>\n",
       "<style scoped>\n",
       "    .dataframe tbody tr th:only-of-type {\n",
       "        vertical-align: middle;\n",
       "    }\n",
       "\n",
       "    .dataframe tbody tr th {\n",
       "        vertical-align: top;\n",
       "    }\n",
       "\n",
       "    .dataframe thead th {\n",
       "        text-align: right;\n",
       "    }\n",
       "</style>\n",
       "<table border=\"1\" class=\"dataframe\">\n",
       "  <thead>\n",
       "    <tr style=\"text-align: right;\">\n",
       "      <th></th>\n",
       "      <th>ID</th>\n",
       "      <th>Name</th>\n",
       "      <th>State</th>\n",
       "    </tr>\n",
       "  </thead>\n",
       "  <tbody>\n",
       "    <tr>\n",
       "      <th>0</th>\n",
       "      <td>1</td>\n",
       "      <td>Florianópolis</td>\n",
       "      <td>SC</td>\n",
       "    </tr>\n",
       "    <tr>\n",
       "      <th>1</th>\n",
       "      <td>2</td>\n",
       "      <td>Rio de Janeiro</td>\n",
       "      <td>RJ</td>\n",
       "    </tr>\n",
       "    <tr>\n",
       "      <th>2</th>\n",
       "      <td>3</td>\n",
       "      <td>Porto Alegre</td>\n",
       "      <td>RS</td>\n",
       "    </tr>\n",
       "    <tr>\n",
       "      <th>3</th>\n",
       "      <td>4</td>\n",
       "      <td>Curitiba</td>\n",
       "      <td>PR</td>\n",
       "    </tr>\n",
       "    <tr>\n",
       "      <th>4</th>\n",
       "      <td>7</td>\n",
       "      <td>São Paulo</td>\n",
       "      <td>SP</td>\n",
       "    </tr>\n",
       "    <tr>\n",
       "      <th>5</th>\n",
       "      <td>9</td>\n",
       "      <td>Belo Horizonte</td>\n",
       "      <td>MG</td>\n",
       "    </tr>\n",
       "    <tr>\n",
       "      <th>6</th>\n",
       "      <td>22</td>\n",
       "      <td>Online</td>\n",
       "      <td>na</td>\n",
       "    </tr>\n",
       "  </tbody>\n",
       "</table>\n",
       "</div>"
      ],
      "text/plain": [
       "   ID            Name State\n",
       "0   1   Florianópolis    SC\n",
       "1   2  Rio de Janeiro    RJ\n",
       "2   3    Porto Alegre    RS\n",
       "3   4        Curitiba    PR\n",
       "4   7       São Paulo    SP\n",
       "5   9  Belo Horizonte    MG\n",
       "6  22          Online    na"
      ]
     },
     "execution_count": 17,
     "metadata": {},
     "output_type": "execute_result"
    }
   ],
   "source": [
    "df_vendas.is"
   ]
  },
  {
   "cell_type": "code",
   "execution_count": null,
   "id": "9c086e09-35c2-41b5-9eef-3f45edb1c23e",
   "metadata": {},
   "outputs": [],
   "source": []
  }
 ],
 "metadata": {
  "kernelspec": {
   "display_name": "Python 3 (ipykernel)",
   "language": "python",
   "name": "python3"
  },
  "language_info": {
   "codemirror_mode": {
    "name": "ipython",
    "version": 3
   },
   "file_extension": ".py",
   "mimetype": "text/x-python",
   "name": "python",
   "nbconvert_exporter": "python",
   "pygments_lexer": "ipython3",
   "version": "3.8.17"
  }
 },
 "nbformat": 4,
 "nbformat_minor": 5
}

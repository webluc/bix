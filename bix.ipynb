{
 "cells": [
  {
   "cell_type": "markdown",
   "id": "db176526-01fd-4ff2-8b17-0a2f27d63fe0",
   "metadata": {},
   "source": [
    "### Carregar Bibliotecas"
   ]
  },
  {
   "cell_type": "code",
   "execution_count": 1,
   "id": "e2f37f6d-a0e7-46c7-b310-8102c5a066c9",
   "metadata": {
    "tags": []
   },
   "outputs": [],
   "source": [
    "import pandas as pd\n",
    "import numpy as np"
   ]
  },
  {
   "cell_type": "markdown",
   "id": "637923fb-daa2-4d58-b6c5-11aa312aa2e6",
   "metadata": {},
   "source": [
    "### Carregar os dados "
   ]
  },
  {
   "cell_type": "code",
   "execution_count": 4,
   "id": "635629f3-826b-41ac-853b-614028001f48",
   "metadata": {
    "tags": []
   },
   "outputs": [],
   "source": [
    "df_vendas = pd.read_excel( \"data/datasets.xlsx\",\n",
    "                            sheet_name=0 ,\n",
    "                            skiprows=4, \n",
    "                            usecols=[2,3,4,5,6,7,8,9 ] )\n",
    "\n",
    "df_produtos = pd.read_excel( \"data/datasets.xlsx\",\n",
    "                            sheet_name=2 ,\n",
    "                             )\n",
    "\n",
    "df_consumidor = pd.read_excel( \"data/datasets.xlsx\",\n",
    "                            sheet_name=3 ,\n",
    "                            )\n",
    "\n",
    "df_lojas = pd.read_excel( \"data/datasets.xlsx\",\n",
    "                            sheet_name=4 ,\n",
    "                             )\n"
   ]
  },
  {
   "cell_type": "markdown",
   "id": "9b9635af-fc23-475a-b3df-a1bf9ce063a6",
   "metadata": {},
   "source": [
    "## Descrição dos dados"
   ]
  },
  {
   "cell_type": "markdown",
   "id": "8c143385-7e79-43e0-9951-c81b7446bd42",
   "metadata": {
    "jp-MarkdownHeadingCollapsed": true,
    "tags": []
   },
   "source": [
    "### Checar os NaN"
   ]
  },
  {
   "cell_type": "code",
   "execution_count": 18,
   "id": "d97620e6-76e7-4955-b3df-937e9ecde1b3",
   "metadata": {
    "tags": []
   },
   "outputs": [
    {
     "data": {
      "text/plain": [
       "ID           0\n",
       "ProductID    0\n",
       "ClientID     0\n",
       "Discount     0\n",
       "UnitPrice    0\n",
       "Quantity     0\n",
       "StoreID      0\n",
       "Date         0\n",
       "dtype: int64"
      ]
     },
     "execution_count": 18,
     "metadata": {},
     "output_type": "execute_result"
    }
   ],
   "source": [
    "df_vendas.isna().sum()"
   ]
  },
  {
   "cell_type": "code",
   "execution_count": 19,
   "id": "9c086e09-35c2-41b5-9eef-3f45edb1c23e",
   "metadata": {
    "tags": []
   },
   "outputs": [
    {
     "data": {
      "text/plain": [
       "ID             0\n",
       "City           0\n",
       "State          0\n",
       "DateOfBirth    0\n",
       "Sex            0\n",
       "dtype: int64"
      ]
     },
     "execution_count": 19,
     "metadata": {},
     "output_type": "execute_result"
    }
   ],
   "source": [
    "df_consumidor.isna().sum()"
   ]
  },
  {
   "cell_type": "code",
   "execution_count": 20,
   "id": "d6bf96e2-1198-4f61-91f4-e29d6d4f1c89",
   "metadata": {
    "tags": []
   },
   "outputs": [
    {
     "data": {
      "text/plain": [
       "ID       0\n",
       "Name     0\n",
       "State    0\n",
       "dtype: int64"
      ]
     },
     "execution_count": 20,
     "metadata": {},
     "output_type": "execute_result"
    }
   ],
   "source": [
    "df_lojas.isna().sum()"
   ]
  },
  {
   "cell_type": "code",
   "execution_count": 21,
   "id": "ac2638cf-239d-4bff-9ef4-587b4b1da64c",
   "metadata": {
    "tags": []
   },
   "outputs": [
    {
     "data": {
      "text/plain": [
       "ID      0\n",
       "Name    0\n",
       "Size    0\n",
       "dtype: int64"
      ]
     },
     "execution_count": 21,
     "metadata": {},
     "output_type": "execute_result"
    }
   ],
   "source": [
    "df_produtos.isna().sum()"
   ]
  },
  {
   "cell_type": "markdown",
   "id": "80bd3a6c-21c9-4aa6-837c-9eb6f15395ba",
   "metadata": {
    "jp-MarkdownHeadingCollapsed": true,
    "tags": []
   },
   "source": [
    "### Verificar o Tamanho"
   ]
  },
  {
   "cell_type": "code",
   "execution_count": 23,
   "id": "524918f8-0480-485e-872a-b5efbc76ab40",
   "metadata": {
    "tags": []
   },
   "outputs": [
    {
     "name": "stdout",
     "output_type": "stream",
     "text": [
      "Número de linhas na vendas : 32753\n",
      "Número de Colunas na vendas: 8\n"
     ]
    }
   ],
   "source": [
    "print( 'Número de linhas na vendas : {}'.format( df_vendas.shape[0] ) )\n",
    "print( 'Número de Colunas na vendas: {}'.format( df_vendas.shape[1] ) )"
   ]
  },
  {
   "cell_type": "code",
   "execution_count": 24,
   "id": "d2e6a28e-52d9-40ea-a7cf-79cbb46615c8",
   "metadata": {
    "tags": []
   },
   "outputs": [
    {
     "name": "stdout",
     "output_type": "stream",
     "text": [
      "Número de linhas no produto  : 73\n",
      "Número de Colunas no produto : 3\n"
     ]
    }
   ],
   "source": [
    "print( 'Número de linhas no produto  : {}'.format( df_produtos.shape[0] ) )\n",
    "print( 'Número de Colunas no produto : {}'.format( df_produtos.shape[1] ) )"
   ]
  },
  {
   "cell_type": "code",
   "execution_count": 25,
   "id": "93509e1f-07ae-45b7-8ae7-eb791a25f25d",
   "metadata": {
    "tags": []
   },
   "outputs": [
    {
     "name": "stdout",
     "output_type": "stream",
     "text": [
      "Número de linhas da loja  : 7\n",
      "Número de Colunas da loja : 3\n"
     ]
    }
   ],
   "source": [
    "print( 'Número de linhas da loja  : {}'.format( df_lojas.shape[0] ) )\n",
    "print( 'Número de Colunas da loja : {}'.format( df_lojas.shape[1] ) )"
   ]
  },
  {
   "cell_type": "code",
   "execution_count": 26,
   "id": "e609253c-510d-4bb9-acc6-72e4b75ffd02",
   "metadata": {
    "tags": []
   },
   "outputs": [
    {
     "name": "stdout",
     "output_type": "stream",
     "text": [
      "Número de linhas do consumidor  : 13650\n",
      "Número de Colunas do consumidor : 5\n"
     ]
    }
   ],
   "source": [
    "print( 'Número de linhas do consumidor  : {}'.format( df_consumidor.shape[0] ) )\n",
    "print( 'Número de Colunas do consumidor : {}'.format( df_consumidor.shape[1] ) )"
   ]
  },
  {
   "cell_type": "markdown",
   "id": "71c2c68b-fd61-42c0-8f25-e0d6176acbd3",
   "metadata": {
    "tags": []
   },
   "source": [
    "### Verificar os tipos dos dados"
   ]
  },
  {
   "cell_type": "code",
   "execution_count": 27,
   "id": "f7fe37f9-cb41-402f-9546-6bdf11626aa9",
   "metadata": {
    "tags": []
   },
   "outputs": [
    {
     "data": {
      "text/plain": [
       "ID                   object\n",
       "ProductID            object\n",
       "ClientID              int64\n",
       "Discount            float64\n",
       "UnitPrice           float64\n",
       "Quantity              int64\n",
       "StoreID               int64\n",
       "Date         datetime64[ns]\n",
       "dtype: object"
      ]
     },
     "execution_count": 27,
     "metadata": {},
     "output_type": "execute_result"
    }
   ],
   "source": [
    "df_vendas.dtypes"
   ]
  },
  {
   "cell_type": "code",
   "execution_count": 28,
   "id": "7447311a-aee3-42ac-9b03-0222c377e7c8",
   "metadata": {
    "tags": []
   },
   "outputs": [
    {
     "data": {
      "text/plain": [
       "ID      object\n",
       "Name    object\n",
       "Size    object\n",
       "dtype: object"
      ]
     },
     "execution_count": 28,
     "metadata": {},
     "output_type": "execute_result"
    }
   ],
   "source": [
    "df_produtos.dtypes"
   ]
  },
  {
   "cell_type": "code",
   "execution_count": 29,
   "id": "2cf4e10b-0c45-4efc-8509-30a97aa6d479",
   "metadata": {
    "tags": []
   },
   "outputs": [
    {
     "data": {
      "text/plain": [
       "ID                      int64\n",
       "City                   object\n",
       "State                  object\n",
       "DateOfBirth    datetime64[ns]\n",
       "Sex                    object\n",
       "dtype: object"
      ]
     },
     "execution_count": 29,
     "metadata": {},
     "output_type": "execute_result"
    }
   ],
   "source": [
    "df_consumidor.dtypes"
   ]
  },
  {
   "cell_type": "code",
   "execution_count": 30,
   "id": "b77c5967-a2b6-4f6f-b8d1-dd9a16ae719d",
   "metadata": {
    "tags": []
   },
   "outputs": [
    {
     "data": {
      "text/plain": [
       "ID        int64\n",
       "Name     object\n",
       "State    object\n",
       "dtype: object"
      ]
     },
     "execution_count": 30,
     "metadata": {},
     "output_type": "execute_result"
    }
   ],
   "source": [
    "df_lojas.dtypes"
   ]
  },
  {
   "cell_type": "markdown",
   "id": "0bdc7032-d6b8-45f8-bae2-dc7e2d1f655f",
   "metadata": {},
   "source": [
    "## Descrição Estatistica"
   ]
  },
  {
   "cell_type": "code",
   "execution_count": 31,
   "id": "570035a1-0971-44db-a627-5e6dc07482f6",
   "metadata": {
    "tags": []
   },
   "outputs": [],
   "source": [
    "df_vendas_num = df_vendas.select_dtypes( include=['int64', 'float64'])\n",
    "\n",
    "df_vendas_cat = df_vendas.select_dtypes( exclude=['int64', 'float64','datetime64[ns]'])"
   ]
  },
  {
   "cell_type": "code",
   "execution_count": 42,
   "id": "8e0b7529-e8b1-49ec-9a33-49ea167e2d36",
   "metadata": {
    "tags": []
   },
   "outputs": [
    {
     "data": {
      "text/html": [
       "<div>\n",
       "<style scoped>\n",
       "    .dataframe tbody tr th:only-of-type {\n",
       "        vertical-align: middle;\n",
       "    }\n",
       "\n",
       "    .dataframe tbody tr th {\n",
       "        vertical-align: top;\n",
       "    }\n",
       "\n",
       "    .dataframe thead th {\n",
       "        text-align: right;\n",
       "    }\n",
       "</style>\n",
       "<table border=\"1\" class=\"dataframe\">\n",
       "  <thead>\n",
       "    <tr style=\"text-align: right;\">\n",
       "      <th></th>\n",
       "      <th>atributos</th>\n",
       "      <th>min</th>\n",
       "      <th>max</th>\n",
       "      <th>range</th>\n",
       "      <th>media</th>\n",
       "      <th>mediana</th>\n",
       "      <th>std</th>\n",
       "      <th>skew</th>\n",
       "      <th>kurtosis</th>\n",
       "    </tr>\n",
       "  </thead>\n",
       "  <tbody>\n",
       "    <tr>\n",
       "      <th>0</th>\n",
       "      <td>ClientID</td>\n",
       "      <td>14001.00</td>\n",
       "      <td>28695.0</td>\n",
       "      <td>14694.00</td>\n",
       "      <td>21225.185937</td>\n",
       "      <td>21130.0</td>\n",
       "      <td>4262.129047</td>\n",
       "      <td>0.039784</td>\n",
       "      <td>-1.207853</td>\n",
       "    </tr>\n",
       "    <tr>\n",
       "      <th>1</th>\n",
       "      <td>Discount</td>\n",
       "      <td>0.08</td>\n",
       "      <td>0.1</td>\n",
       "      <td>0.02</td>\n",
       "      <td>0.093012</td>\n",
       "      <td>0.1</td>\n",
       "      <td>0.009536</td>\n",
       "      <td>-0.631752</td>\n",
       "      <td>-1.600987</td>\n",
       "    </tr>\n",
       "    <tr>\n",
       "      <th>2</th>\n",
       "      <td>UnitPrice</td>\n",
       "      <td>114.80</td>\n",
       "      <td>686.0</td>\n",
       "      <td>571.20</td>\n",
       "      <td>221.644967</td>\n",
       "      <td>204.4</td>\n",
       "      <td>112.533586</td>\n",
       "      <td>2.935387</td>\n",
       "      <td>9.318373</td>\n",
       "    </tr>\n",
       "    <tr>\n",
       "      <th>3</th>\n",
       "      <td>Quantity</td>\n",
       "      <td>1.00</td>\n",
       "      <td>3.0</td>\n",
       "      <td>2.00</td>\n",
       "      <td>1.058651</td>\n",
       "      <td>1.0</td>\n",
       "      <td>0.239603</td>\n",
       "      <td>3.994438</td>\n",
       "      <td>15.192824</td>\n",
       "    </tr>\n",
       "    <tr>\n",
       "      <th>4</th>\n",
       "      <td>StoreID</td>\n",
       "      <td>1.00</td>\n",
       "      <td>22.0</td>\n",
       "      <td>21.00</td>\n",
       "      <td>3.752389</td>\n",
       "      <td>3.0</td>\n",
       "      <td>3.827446</td>\n",
       "      <td>3.118095</td>\n",
       "      <td>11.735954</td>\n",
       "    </tr>\n",
       "  </tbody>\n",
       "</table>\n",
       "</div>"
      ],
      "text/plain": [
       "   atributos       min      max     range         media  mediana          std  \\\n",
       "0   ClientID  14001.00  28695.0  14694.00  21225.185937  21130.0  4262.129047   \n",
       "1   Discount      0.08      0.1      0.02      0.093012      0.1     0.009536   \n",
       "2  UnitPrice    114.80    686.0    571.20    221.644967    204.4   112.533586   \n",
       "3   Quantity      1.00      3.0      2.00      1.058651      1.0     0.239603   \n",
       "4    StoreID      1.00     22.0     21.00      3.752389      3.0     3.827446   \n",
       "\n",
       "       skew   kurtosis  \n",
       "0  0.039784  -1.207853  \n",
       "1 -0.631752  -1.600987  \n",
       "2  2.935387   9.318373  \n",
       "3  3.994438  15.192824  \n",
       "4  3.118095  11.735954  "
      ]
     },
     "execution_count": 42,
     "metadata": {},
     "output_type": "execute_result"
    }
   ],
   "source": [
    "#Metricas Tendência Central - Mean e Median\n",
    "\n",
    "ct1 = pd.DataFrame( df_vendas_num.apply( np.mean ) ).T\n",
    "ct2 = pd.DataFrame( df_vendas_num.apply( np.median ) ).T\n",
    "\n",
    "#Metricas Dispersão STD -Min - Max - Range - skew - Kurtosis\n",
    "\n",
    "d1 = pd.DataFrame( df_vendas_num.apply( np.std ) ).T\n",
    "d2 = pd.DataFrame( df_vendas_num.apply( min ) ).T\n",
    "d3 = pd.DataFrame( df_vendas_num.apply( max ) ).T\n",
    "d4 = pd.DataFrame( df_vendas_num.apply( lambda x: x.max() - x.min() ) ).T\n",
    "d5 = pd.DataFrame( df_vendas_num.apply( lambda x: x.skew() ) ).T\n",
    "d6 = pd.DataFrame( df_vendas_num.apply( lambda x: x.kurtosis() ) ).T\n",
    "\n",
    "#Concatenar - Montar Tabela\n",
    "\n",
    "df_desc_vendas_num =  pd.concat( [ d2, d3, d4, ct1, ct2, d1, d5, d6] ).T.reset_index()\n",
    "df_desc_vendas_num.columns = ['atributos','min','max','range','media','mediana','std','skew','kurtosis']\n",
    "\n",
    "df_desc_vendas_num\n",
    "\n"
   ]
  },
  {
   "cell_type": "code",
   "execution_count": 39,
   "id": "e2478831-e5cf-4b4c-af6c-a15c93fca309",
   "metadata": {
    "tags": []
   },
   "outputs": [
    {
     "data": {
      "text/html": [
       "<div>\n",
       "<style scoped>\n",
       "    .dataframe tbody tr th:only-of-type {\n",
       "        vertical-align: middle;\n",
       "    }\n",
       "\n",
       "    .dataframe tbody tr th {\n",
       "        vertical-align: top;\n",
       "    }\n",
       "\n",
       "    .dataframe thead th {\n",
       "        text-align: right;\n",
       "    }\n",
       "</style>\n",
       "<table border=\"1\" class=\"dataframe\">\n",
       "  <thead>\n",
       "    <tr style=\"text-align: right;\">\n",
       "      <th></th>\n",
       "      <th>ClientID</th>\n",
       "      <th>Discount</th>\n",
       "      <th>UnitPrice</th>\n",
       "      <th>Quantity</th>\n",
       "      <th>StoreID</th>\n",
       "    </tr>\n",
       "  </thead>\n",
       "  <tbody>\n",
       "    <tr>\n",
       "      <th>0</th>\n",
       "      <td>21130.0</td>\n",
       "      <td>0.1</td>\n",
       "      <td>204.4</td>\n",
       "      <td>1.0</td>\n",
       "      <td>3.0</td>\n",
       "    </tr>\n",
       "  </tbody>\n",
       "</table>\n",
       "</div>"
      ],
      "text/plain": [
       "   ClientID  Discount  UnitPrice  Quantity  StoreID\n",
       "0   21130.0       0.1      204.4       1.0      3.0"
      ]
     },
     "execution_count": 39,
     "metadata": {},
     "output_type": "execute_result"
    }
   ],
   "source": [
    "ct2"
   ]
  },
  {
   "cell_type": "code",
   "execution_count": null,
   "id": "52ca2102-cd3f-4bbf-8a74-2e66fb040cd2",
   "metadata": {},
   "outputs": [],
   "source": []
  }
 ],
 "metadata": {
  "kernelspec": {
   "display_name": "Python 3 (ipykernel)",
   "language": "python",
   "name": "python3"
  },
  "language_info": {
   "codemirror_mode": {
    "name": "ipython",
    "version": 3
   },
   "file_extension": ".py",
   "mimetype": "text/x-python",
   "name": "python",
   "nbconvert_exporter": "python",
   "pygments_lexer": "ipython3",
   "version": "3.8.16"
  }
 },
 "nbformat": 4,
 "nbformat_minor": 5
}
